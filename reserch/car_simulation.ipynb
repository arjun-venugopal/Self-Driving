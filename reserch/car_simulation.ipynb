{
  "cells": [
    {
      "cell_type": "code",
      "execution_count": null,
      "metadata": {
        "colab": {
          "base_uri": "https://localhost:8080/"
        },
        "id": "N5yEm7t9N6tA",
        "outputId": "fa7f01da-71c7-492d-a35a-400ae43b87d0"
      },
      "outputs": [],
      "source": [
        "!nvidia-smi"
      ]
    },
    {
      "cell_type": "code",
      "execution_count": null,
      "metadata": {
        "id": "8lYna-ptk3Ya"
      },
      "outputs": [],
      "source": [
        "import gdown\n",
        "import zipfile\n",
        "import os"
      ]
    },
    {
      "cell_type": "code",
      "execution_count": null,
      "metadata": {
        "colab": {
          "base_uri": "https://localhost:8080/"
        },
        "id": "YqeECeMdpwNs",
        "outputId": "5d1660b9-9b1d-423d-d309-2718be8e983c"
      },
      "outputs": [],
      "source": [
        "try:\n",
        "    file_id = \"https://drive.goo#gle.com/file/d/1n_0za90fHWo9uopP9XipKNcjLPvgrNT4/view?usp=sharing\".split(\"/\")[-2]\n",
        "    prefix =  'https://drive.google.com/uc?/export=download&id='\n",
        "    gdown.download(prefix + file_id)\n",
        "except Exception as e:\n",
        "    raise e"
      ]
    },
    {
      "cell_type": "code",
      "execution_count": null,
      "metadata": {
        "id": "-ZH7Arj9vail"
      },
      "outputs": [],
      "source": [
        "with zipfile.ZipFile('/content/track-master.zip', 'r') as zip_ref:\n",
        "    zip_ref.extractall('data')"
      ]
    },
    {
      "cell_type": "code",
      "execution_count": null,
      "metadata": {
        "id": "ffz3ni7evu-O"
      },
      "outputs": [],
      "source": [
        "import pandas as pd\n",
        "import numpy as np\n",
        "import matplotlib.pyplot as plt\n",
        "import tensorflow as tf\n",
        "import cv2\n",
        "import ntpath\n",
        "import random\n",
        "from tensorflow import keras\n",
        "from keras.models import Sequential\n",
        "from keras.layers import Dense, Dropout, Flatten, Conv2D, MaxPooling2D, Convolution2D, BatchNormalization\n",
        "from tensorflow.keras.optimizers import Adam\n",
        "from sklearn.utils import shuffle\n",
        "from sklearn.model_selection import train_test_split\n",
        "from imgaug import augmenters as iaa\n"
      ]
    },
    {
      "cell_type": "code",
      "execution_count": null,
      "metadata": {
        "colab": {
          "base_uri": "https://localhost:8080/",
          "height": 226
        },
        "id": "2uPASANsyNDG",
        "outputId": "dea32f55-9324-4397-b4bc-bfe03618d183"
      },
      "outputs": [],
      "source": [
        "data_dir = '/content/data/track-master'\n",
        "columns = ['center', 'left', 'right', 'steering', 'throttle', 'reverse', 'speed']\n",
        "data = pd.read_csv(os.path.join(data_dir, 'driving_log.csv'), names = columns)\n",
        "pd.set_option('display.max_colwidth', None)\n",
        "data.head()"
      ]
    },
    {
      "cell_type": "code",
      "execution_count": null,
      "metadata": {
        "colab": {
          "base_uri": "https://localhost:8080/",
          "height": 206
        },
        "id": "dx9mtjjq0XWY",
        "outputId": "87652dc4-fb1e-4112-9e17-4a7e1042f256"
      },
      "outputs": [],
      "source": [
        "def path_leaf(path):\n",
        "    head, tail = ntpath.split(path)\n",
        "    return tail\n",
        "\n",
        "data['center'] = data['center'].apply(path_leaf)\n",
        "data['left'] = data['left'].apply(path_leaf)\n",
        "data['right'] = data['right'].apply(path_leaf)\n",
        "data.head()\n"
      ]
    },
    {
      "cell_type": "code",
      "execution_count": null,
      "metadata": {
        "colab": {
          "base_uri": "https://localhost:8080/"
        },
        "id": "zveeJr8c6HYJ",
        "outputId": "e3d73e1d-3e69-443e-c412-7e1508a276c5"
      },
      "outputs": [],
      "source": [
        "print(\"shape of the dataset\" , data.shape)\n",
        "print(\"information about the dataset\", data.info())\n"
      ]
    },
    {
      "cell_type": "code",
      "execution_count": null,
      "metadata": {
        "colab": {
          "base_uri": "https://localhost:8080/",
          "height": 300
        },
        "id": "xE98p3uf6gY4",
        "outputId": "9629399e-ccde-4944-e818-81b8c5856f81"
      },
      "outputs": [],
      "source": [
        "data.describe()"
      ]
    },
    {
      "cell_type": "markdown",
      "metadata": {
        "id": "u8C-Do7Q66bI"
      },
      "source": []
    },
    {
      "cell_type": "markdown",
      "metadata": {
        "id": "N6smnySm6z5P"
      },
      "source": [
        "# Doing EDA Part"
      ]
    },
    {
      "cell_type": "code",
      "execution_count": null,
      "metadata": {
        "colab": {
          "base_uri": "https://localhost:8080/",
          "height": 472
        },
        "id": "3wp-8rXY26Up",
        "outputId": "a76233fd-cfa9-416e-a07e-314ca8890029"
      },
      "outputs": [],
      "source": [
        "# analize the steering position\n",
        "num_bins = 25\n",
        "samples_per_bin = 400\n",
        "his, bins = np.histogram(data[\"steering\"],num_bins)\n",
        "center = (bins[:-1]+ bins[1:]) * 0.5\n",
        "bar_width = bins[1] - bins[0]\n",
        "plt.bar(center, his, width=bar_width)\n",
        "plt.plot((np.min(data['steering']), np.max(data['steering'])), (samples_per_bin, samples_per_bin),color=\"red\")\n",
        "plt.xlabel(\"Steering\")\n",
        "plt.ylabel(\"Frequency\")\n",
        "plt.title(\"Histogram of Steering Angles\")\n",
        "plt.show()"
      ]
    },
    {
      "cell_type": "code",
      "execution_count": null,
      "metadata": {
        "colab": {
          "base_uri": "https://localhost:8080/"
        },
        "id": "06OluSn0-ar8",
        "outputId": "b3b01f5b-77fe-47be-9137-c54188f8f501"
      },
      "outputs": [],
      "source": [
        "remove_list = []\n",
        "for j in range(num_bins):\n",
        "    list_ = []\n",
        "    for i in range(len(data['steering'])):\n",
        "        if data['steering'][i] >= bins[j] and data['steering'][i] <= bins[j+1]:\n",
        "            list_.append(i)\n",
        "    list_ = shuffle(list_)\n",
        "    list_ = list_[samples_per_bin:]\n",
        "    remove_list.extend(list_)\n",
        "\n",
        "print('removed', len(remove_list))\n",
        "data.drop(data.index[remove_list], inplace=True)\n",
        "print('remaining', len(data))"
      ]
    },
    {
      "cell_type": "code",
      "execution_count": null,
      "metadata": {
        "colab": {
          "base_uri": "https://localhost:8080/",
          "height": 472
        },
        "id": "ADkWuPf7_qFi",
        "outputId": "a6ca9c5a-371d-40a9-fff8-743d1367425a"
      },
      "outputs": [],
      "source": [
        "his, bins = np.histogram(data[\"steering\"],num_bins)\n",
        "center = (bins[:-1]+ bins[1:]) * 0.5\n",
        "bar_width = bins[1] - bins[0]\n",
        "plt.bar(center, his, width=bar_width,)\n",
        "plt.plot((np.min(data['steering']), np.max(data['steering'])), (samples_per_bin, samples_per_bin),color=\"red\")\n",
        "plt.xlabel(\"Steering\")\n",
        "plt.ylabel(\"Frequency\")\n",
        "plt.title(\"Histogram of Steering Angles\")\n",
        "plt.show()"
      ]
    },
    {
      "cell_type": "code",
      "execution_count": null,
      "metadata": {
        "id": "SZEKsbJaCGah"
      },
      "outputs": [],
      "source": [
        "def load_img_steering(datadir, data):\n",
        "  image_path = []\n",
        "  steering = []\n",
        "  for i in range(len(data)):\n",
        "    indexed_data = data.iloc[i]\n",
        "    center, left, right = indexed_data[0], indexed_data[1], indexed_data[2]\n",
        "    image_path.append(os.path.join(datadir, center.strip()))\n",
        "    steering.append(float(indexed_data[3]))\n",
        "\n",
        "    image_path.append(os.path.join(datadir, left.strip()))\n",
        "    steering.append(float(indexed_data[3]) + 0.15)\n",
        "\n",
        "    image_path.append(os.path.join(datadir, right.strip()))\n",
        "    steering.append(float(indexed_data[3]) - 0.15)\n",
        "\n",
        "  image_paths = np.asarray(image_path)\n",
        "  steerings = np.asarray(steering)\n",
        "  return image_paths, steerings\n"
      ]
    },
    {
      "cell_type": "code",
      "execution_count": null,
      "metadata": {
        "colab": {
          "base_uri": "https://localhost:8080/"
        },
        "id": "U-yXF5VEEHsH",
        "outputId": "e3db7166-4461-451f-9ea7-ef76a05c458f"
      },
      "outputs": [],
      "source": [
        "image_paths, steerings = load_img_steering(data_dir + '/IMG', data)"
      ]
    },
    {
      "cell_type": "code",
      "execution_count": null,
      "metadata": {
        "colab": {
          "base_uri": "https://localhost:8080/"
        },
        "id": "shoN8SJfEMie",
        "outputId": "4385fe27-a4e9-4e19-d619-e62001270fd3"
      },
      "outputs": [],
      "source": [
        "image_paths"
      ]
    },
    {
      "cell_type": "code",
      "execution_count": null,
      "metadata": {
        "colab": {
          "base_uri": "https://localhost:8080/"
        },
        "id": "rEaLe00SEq8q",
        "outputId": "ea35da91-2059-45ce-eab9-68ce10668471"
      },
      "outputs": [],
      "source": [
        "x_train, x_val, y_train, y_val = train_test_split(image_paths, steerings, test_size=0.2, random_state=40)\n",
        "print('Training Samples: {}\\nValid Samples: {}'.format(len(x_train), len(x_val)))"
      ]
    },
    {
      "cell_type": "code",
      "execution_count": null,
      "metadata": {
        "colab": {
          "base_uri": "https://localhost:8080/",
          "height": 391
        },
        "id": "4eQgZwc-FatE",
        "outputId": "59cc7161-266d-4734-c1ab-9d2348f1c931"
      },
      "outputs": [],
      "source": [
        "fig, axes = plt.subplots(1, 2, figsize=(12, 4))\n",
        "axes[0].hist(y_train, bins=num_bins, width=bar_width, color='green')\n",
        "axes[0].set_title('Training Set')\n",
        "axes[1].hist(y_val, bins=num_bins, width=bar_width, color='red')\n",
        "axes[1].set_title('Validation Set')\n",
        "plt.show()"
      ]
    },
    {
      "cell_type": "code",
      "execution_count": null,
      "metadata": {
        "id": "uctORglmJT8a"
      },
      "outputs": [],
      "source": [
        "def zoom(image):\n",
        "  zoom = iaa.Affine(scale=(1, 1.3))\n",
        "  image = zoom.augment_image(image)\n",
        "  return image\n",
        "\n",
        "def flip(image, steering):\n",
        "  image = cv2.flip(image, 1)\n",
        "  steering = -steering\n",
        "  return image, steering\n",
        "\n",
        "def pan(image):\n",
        "  pan = iaa.Affine(translate_percent={\"x\": (-0.1, 0.1), \"y\": (-0.1, 0.1)})\n",
        "  image = pan.augment_image(image)\n",
        "  return image\n",
        "\n",
        "def adjust_brightness(image):\n",
        "  brightness = iaa.Multiply((0.4, 1.2))\n",
        "  image = brightness.augment_image(image)\n",
        "  return image\n"
      ]
    },
    {
      "cell_type": "code",
      "execution_count": null,
      "metadata": {
        "id": "lNQO5wYNKAKg"
      },
      "outputs": [],
      "source": [
        "def image_agmentation(image, steering):\n",
        "    image = cv2.imread(image)\n",
        "    if np.random.rand() < 0.5:\n",
        "        image = zoom(image)\n",
        "    if np.random.rand() < 0.5:\n",
        "        image = pan(image)\n",
        "    if np.random.rand() < 0.5:\n",
        "        image = adjust_brightness(image)\n",
        "    if np.random.rand() < 0.5:\n",
        "        image, steering = flip(image, steering)\n",
        "    return image, steering"
      ]
    },
    {
      "cell_type": "code",
      "execution_count": null,
      "metadata": {
        "colab": {
          "base_uri": "https://localhost:8080/",
          "height": 1000
        },
        "id": "Oi21x82RLxUx",
        "outputId": "1f55dbb9-c2c2-4e5b-a042-51163eda8722"
      },
      "outputs": [],
      "source": [
        "row = 5\n",
        "col = 2\n",
        "fig, axes = plt.subplots(row, col, figsize=(12,24))\n",
        "\n",
        "for i in range (5):\n",
        "  rand_num = random.randint(0, len(image_paths) - 1)\n",
        "  image = image_paths[rand_num]\n",
        "  steering = steerings[rand_num]\n",
        "\n",
        "  original_image = cv2.imread(image)\n",
        "  augmented_image, steering = image_agmentation(image, steering)\n",
        "\n",
        "  axes[i][0].imshow(original_image)\n",
        "  axes[i][0].set_title(\"Original Image\")\n",
        "\n",
        "  axes[i][1].imshow(augmented_image)\n",
        "  axes[i][1].set_title(\"Augmented Image\")"
      ]
    },
    {
      "cell_type": "code",
      "execution_count": null,
      "metadata": {
        "id": "EnfH4dsuUFz-"
      },
      "outputs": [],
      "source": [
        "def image_preprocess(img):\n",
        "    img = img[50:300,:,:]\n",
        "    img = cv2.cvtColor(img, cv2.COLOR_RGB2YUV)\n",
        "    img = cv2.GaussianBlur(img,  (3, 3), 0)\n",
        "    img = cv2.resize(img, (200, 66))\n",
        "    img = img/255\n",
        "    return img"
      ]
    },
    {
      "cell_type": "code",
      "execution_count": null,
      "metadata": {
        "colab": {
          "base_uri": "https://localhost:8080/",
          "height": 367
        },
        "id": "K94I3CSecp9v",
        "outputId": "092a4cc8-d5a8-4b9e-9cca-3ffc86d12dfc"
      },
      "outputs": [],
      "source": [
        "img = image_paths[100]\n",
        "original_image = cv2.imread(img)\n",
        "preprocessed_image = image_preprocess(original_image)\n",
        "\n",
        "fig, axes = plt.subplots(1,2 , figsize=(12,10))\n",
        "fig.tight_layout()\n",
        "axes[0].imshow(original_image)\n",
        "axes[0].set_title('Original Image')\n",
        "axes[1].imshow(preprocessed_image)\n",
        "axes[1].set_title('Preprocessed Image')\n",
        "\n"
      ]
    },
    {
      "cell_type": "code",
      "execution_count": null,
      "metadata": {
        "id": "cxNV2E00fW_m"
      },
      "outputs": [],
      "source": [
        "def batch_generator(image_paths, steering_angle, batch_size, is_training):\n",
        "  while True:\n",
        "    batch_img = []\n",
        "    batch_steering = []\n",
        "\n",
        "    for i in range(batch_size):\n",
        "      random_index = random.randint(0, len(image_paths) - 1)\n",
        "      if is_training:\n",
        "        image , steering = image_agmentation(image_paths[random_index], steering_angle[random_index])\n",
        "      else:\n",
        "        image = cv2.imread(image_paths[random_index])\n",
        "        steering = steering_angle[random_index]\n",
        "\n",
        "      image_pre = image_preprocess(image)\n",
        "      batch_img.append(image_pre)\n",
        "      batch_steering.append(steering)\n",
        "    yield (np.asarray(batch_img), np.asarray(batch_steering))"
      ]
    },
    {
      "cell_type": "code",
      "execution_count": null,
      "metadata": {
        "colab": {
          "base_uri": "https://localhost:8080/",
          "height": 276
        },
        "id": "VKQudIWpisVu",
        "outputId": "c0f65bb4-10e5-441e-90df-6d99d33c6c90"
      },
      "outputs": [],
      "source": [
        "x_train_gen, y_train_gen = next(batch_generator(x_train, y_train, 1, 1))\n",
        "x_val_gen, y_val_gen = next(batch_generator(x_val, y_val, 1,1))\n",
        "\n",
        "fig, axes = plt.subplots(1, 2, figsize=(12, 4))\n",
        "fig.tight_layout()\n",
        "axes[0].imshow(x_train_gen[0])\n",
        "axes[0].set_title('Training Image')\n",
        "axes[1].imshow(x_val_gen[0])\n",
        "axes[1].set_title('Validation Image')"
      ]
    },
    {
      "cell_type": "code",
      "execution_count": null,
      "metadata": {
        "id": "Ke2crDthkSap"
      },
      "outputs": [],
      "source": [
        "# Modified NVIDIA Model\n",
        "def nvidia_model():\n",
        "    model = Sequential()\n",
        "\n",
        "    model.add(Conv2D(24, (5, 5), strides=(2, 2), activation='elu', input_shape= (66, 200, 3)))\n",
        "    model.add(Conv2D(36, (5, 5), strides=(2, 2),activation='elu'))\n",
        "    model.add(Conv2D(48, (5, 5), strides=(2, 2),activation='elu'))\n",
        "\n",
        "    # 3x3 Convolutional layers with stride of 1x1\n",
        "    model.add(Conv2D(64, (3, 3),activation='elu'))\n",
        "    model.add(Conv2D(64, (3, 3),activation='elu'))\n",
        "\n",
        "    # Flatten before passing to the fully connected layers\n",
        "    model.add(Flatten())\n",
        "    # Three fully connected layers\n",
        "    model.add(Dense(100,activation='elu'))\n",
        "    model.add(Dropout(.04))\n",
        "    model.add(Dense(50,activation='elu'))\n",
        "    model.add(Dropout(.04))\n",
        "    model.add(Dense(10,activation='elu'))\n",
        "    model.add(Dropout(.04))\n",
        "    model.add(Dense(1))\n",
        "\n",
        "    # Optimizer with reduced learning rate\n",
        "    optimizer = Adam(learning_rate=1e-3)\n",
        "\n",
        "    # Compile the model with proper regression metrics\n",
        "    model.compile(optimizer=optimizer, loss='mse', metrics=['mse', 'mae'])\n",
        "\n",
        "    return model\n"
      ]
    },
    {
      "cell_type": "code",
      "execution_count": null,
      "metadata": {
        "colab": {
          "base_uri": "https://localhost:8080/",
          "height": 617
        },
        "id": "I0pVQLWKnPVi",
        "outputId": "01acf5ba-2513-41b6-86c0-1f7276db2b45"
      },
      "outputs": [],
      "source": [
        "model = nvidia_model()\n",
        "print(model.summary())"
      ]
    },
    {
      "cell_type": "code",
      "execution_count": null,
      "metadata": {
        "colab": {
          "base_uri": "https://localhost:8080/",
          "height": 529
        },
        "id": "p7vUIUbPGu40",
        "outputId": "e389d6a6-c135-4b2b-a788-ab0cdc55b637"
      },
      "outputs": [],
      "source": [
        "history = model.fit(batch_generator(x_train, y_train, 100, 1),\n",
        "                    steps_per_epoch=300,\n",
        "                    epochs=50,\n",
        "                    validation_data=batch_generator(x_val, y_val, 100, 0),\n",
        "                    validation_steps=200,\n",
        "                    verbose=1,\n",
        "                    shuffle=1)"
      ]
    },
    {
      "cell_type": "code",
      "execution_count": null,
      "metadata": {
        "id": "f-Q35ENpH3P8"
      },
      "outputs": [],
      "source": [
        "# Check available keys to avoid KeyErrors\n",
        "print(history.history.keys())\n",
        "\n",
        "plt.figure(figsize=(12, 5))\n",
        "\n",
        "# Plot MSE Scores\n",
        "plt.subplot(1, 2, 1)\n",
        "plt.plot(history.history.get('mse', history.history.get('mean_squared_error')), label='Train MSE')\n",
        "plt.plot(history.history.get('val_mse', history.history.get('val_mean_squared_error')), label='Validation MSE')\n",
        "plt.title('MSE Score')\n",
        "plt.xlabel('Epoch')\n",
        "plt.ylabel('MSE')\n",
        "plt.legend()\n",
        "\n",
        "# Plot Loss\n",
        "plt.subplot(1, 2, 2)\n",
        "plt.plot(history.history['loss'], label='Train Loss')\n",
        "plt.plot(history.history['val_loss'], label='Validation Loss')\n",
        "plt.title('Model Loss')\n",
        "plt.xlabel('Epoch')\n",
        "plt.ylabel('Loss')\n",
        "plt.legend(loc='upper left')\n",
        "\n",
        "plt.tight_layout()\n",
        "plt.show()\n"
      ]
    },
    {
      "cell_type": "code",
      "execution_count": null,
      "metadata": {
        "id": "SzWyaDHYU167"
      },
      "outputs": [],
      "source": [
        "plt.savefig('history.png')"
      ]
    },
    {
      "cell_type": "code",
      "execution_count": null,
      "metadata": {
        "id": "g4DZ9P3-OJjI"
      },
      "outputs": [],
      "source": [
        "model.save('model.h5')"
      ]
    }
  ],
  "metadata": {
    "accelerator": "GPU",
    "colab": {
      "gpuType": "T4",
      "provenance": []
    },
    "kernelspec": {
      "display_name": "selfcar",
      "language": "python",
      "name": "python3"
    },
    "language_info": {
      "codemirror_mode": {
        "name": "ipython",
        "version": 3
      },
      "file_extension": ".py",
      "mimetype": "text/x-python",
      "name": "python",
      "nbconvert_exporter": "python",
      "pygments_lexer": "ipython3",
      "version": "3.10.16"
    }
  },
  "nbformat": 4,
  "nbformat_minor": 0
}
